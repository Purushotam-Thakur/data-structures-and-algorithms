{
 "cells": [
  {
   "cell_type": "code",
   "execution_count": 1,
   "metadata": {},
   "outputs": [],
   "source": [
    "class Node():\n",
    "    def __init__(self, data):\n",
    "        self.data = data\n",
    "        self.next = None\n",
    "        "
   ]
  },
  {
   "cell_type": "code",
   "execution_count": 2,
   "metadata": {},
   "outputs": [],
   "source": [
    "def cycle_check(node):\n",
    "    marker1 = node\n",
    "    marker2 = node\n",
    "    \n",
    "    while marker2!=None and marker2.next!=None:\n",
    "        marker1 = marker1.next\n",
    "        marker2 = marker2.next.next\n",
    "        \n",
    "        \n",
    "        if marker1==marker2:\n",
    "            return True\n",
    "    return False"
   ]
  },
  {
   "cell_type": "markdown",
   "metadata": {},
   "source": [
    "## Test:"
   ]
  },
  {
   "cell_type": "code",
   "execution_count": 9,
   "metadata": {},
   "outputs": [
    {
     "name": "stdout",
     "output_type": "stream",
     "text": [
      "ALL TEST CASES PASSED\n"
     ]
    }
   ],
   "source": [
    "from nose.tools import assert_equal\n",
    "\n",
    "a = Node(2)\n",
    "b = Node(5)\n",
    "c = Node(6)\n",
    "d = Node(8)\n",
    "\n",
    "a.next = b\n",
    "b.next = c\n",
    "c.next = d\n",
    "d.next = a\n",
    "\n",
    "\n",
    "x = Node(8)\n",
    "y = Node(17)\n",
    "z = Node(28)\n",
    "\n",
    "x.next = y\n",
    "y.next = z\n",
    "\n",
    "class Test():\n",
    "    \n",
    "    def test(self, sol):\n",
    "        assert_equal(sol(a), True)\n",
    "        assert_equal(sol(x), False)\n",
    "        print(\"ALL TEST CASES PASSED\")\n",
    "        \n",
    "t = Test()\n",
    "t.test(cycle_check)\n",
    "        "
   ]
  },
  {
   "cell_type": "code",
   "execution_count": null,
   "metadata": {},
   "outputs": [],
   "source": []
  }
 ],
 "metadata": {
  "kernelspec": {
   "display_name": "Python 3",
   "language": "python",
   "name": "python3"
  },
  "language_info": {
   "codemirror_mode": {
    "name": "ipython",
    "version": 3
   },
   "file_extension": ".py",
   "mimetype": "text/x-python",
   "name": "python",
   "nbconvert_exporter": "python",
   "pygments_lexer": "ipython3",
   "version": "3.7.6"
  }
 },
 "nbformat": 4,
 "nbformat_minor": 4
}
