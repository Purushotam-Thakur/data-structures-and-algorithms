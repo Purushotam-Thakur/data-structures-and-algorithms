{
 "cells": [
  {
   "cell_type": "code",
   "execution_count": 1,
   "metadata": {},
   "outputs": [],
   "source": [
    "class Node():\n",
    "    def __init__(self,data):\n",
    "        self.data = data\n",
    "        self.next = None"
   ]
  },
  {
   "cell_type": "code",
   "execution_count": 9,
   "metadata": {},
   "outputs": [],
   "source": [
    "def nth_to_last_node(node,n):\n",
    "    i=0\n",
    "    left_pointer = node\n",
    "    right_pointer = node\n",
    "    while i<n:\n",
    "        if not right_pointer.next:\n",
    "            raise LookupError('Error: n is larger than the linked list.')\n",
    "        right_pointer = right_pointer.next\n",
    "        i+=1\n",
    "        \n",
    "    while right_pointer:\n",
    "        right_pointer = right_pointer.next\n",
    "        left_pointer = left_pointer.next\n",
    "        \n",
    "    return left_pointer\n",
    "        "
   ]
  },
  {
   "cell_type": "code",
   "execution_count": 10,
   "metadata": {},
   "outputs": [
    {
     "name": "stdout",
     "output_type": "stream",
     "text": [
      "0\n",
      "1\n",
      "ALL TEST CASE PASSED\n"
     ]
    }
   ],
   "source": [
    "from nose.tools import assert_equal\n",
    "\n",
    "a = Node(1)\n",
    "b = Node(4)\n",
    "c = Node(8)\n",
    "d = Node(15)\n",
    "e = Node(18)\n",
    "f = Node(22)\n",
    "\n",
    "a.next = b\n",
    "b.next = c\n",
    "c.next = d\n",
    "d.next = e\n",
    "e.next = f\n",
    "\n",
    "class TestNLast():\n",
    "    def test(self, sol):\n",
    "        assert_equal(sol(a,2).data,18)\n",
    "        print('ALL TEST CASE PASSED')\n",
    "        \n",
    "t = TestNLast()\n",
    "t.test(nth_to_last_node)"
   ]
  },
  {
   "cell_type": "code",
   "execution_count": null,
   "metadata": {},
   "outputs": [],
   "source": []
  }
 ],
 "metadata": {
  "kernelspec": {
   "display_name": "Python 3",
   "language": "python",
   "name": "python3"
  },
  "language_info": {
   "codemirror_mode": {
    "name": "ipython",
    "version": 3
   },
   "file_extension": ".py",
   "mimetype": "text/x-python",
   "name": "python",
   "nbconvert_exporter": "python",
   "pygments_lexer": "ipython3",
   "version": "3.7.6"
  }
 },
 "nbformat": 4,
 "nbformat_minor": 4
}
