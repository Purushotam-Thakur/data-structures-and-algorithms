{
 "cells": [
  {
   "cell_type": "code",
   "execution_count": 5,
   "metadata": {},
   "outputs": [],
   "source": [
    "def rev_words(s):\n",
    "    words_list=[]\n",
    "    len_s=len(s)\n",
    "    i=0\n",
    "    word=''\n",
    "    \n",
    "    while i<len_s:\n",
    "        if s[i] != ' ':\n",
    "            while i<len_s and s[i]!=' ':\n",
    "                word=word+s[i]\n",
    "                i+=1\n",
    "            words_list.append(word)\n",
    "            word=''\n",
    "        i+=1\n",
    "        \n",
    "    len_words=len(words_list)\n",
    "    j=len_words-2\n",
    "    new_s=words_list[len_words-1]\n",
    "    \n",
    "    while j>=0:\n",
    "        new_s=new_s+' '+words_list[j]\n",
    "        j-=1\n",
    "        \n",
    "    return new_s"
   ]
  },
  {
   "cell_type": "code",
   "execution_count": 8,
   "metadata": {},
   "outputs": [
    {
     "data": {
      "text/plain": [
       "'puru is name my hi'"
      ]
     },
     "execution_count": 8,
     "metadata": {},
     "output_type": "execute_result"
    }
   ],
   "source": [
    "rev_words('  hi    my name is    puru  ')"
   ]
  },
  {
   "cell_type": "code",
   "execution_count": null,
   "metadata": {},
   "outputs": [],
   "source": []
  }
 ],
 "metadata": {
  "kernelspec": {
   "display_name": "Python 3",
   "language": "python",
   "name": "python3"
  },
  "language_info": {
   "codemirror_mode": {
    "name": "ipython",
    "version": 3
   },
   "file_extension": ".py",
   "mimetype": "text/x-python",
   "name": "python",
   "nbconvert_exporter": "python",
   "pygments_lexer": "ipython3",
   "version": "3.7.6"
  }
 },
 "nbformat": 4,
 "nbformat_minor": 4
}
