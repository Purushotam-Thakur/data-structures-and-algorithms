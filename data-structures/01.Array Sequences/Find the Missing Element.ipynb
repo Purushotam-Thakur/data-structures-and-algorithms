{
 "cells": [
  {
   "cell_type": "markdown",
   "metadata": {},
   "source": [
    "# Find the Missing Element"
   ]
  },
  {
   "cell_type": "code",
   "execution_count": 1,
   "metadata": {},
   "outputs": [],
   "source": [
    "def finder(arr1, arr2):\n",
    "    counter = {}\n",
    "    for i in arr1:\n",
    "        if i in counter:\n",
    "            counter[i] +=1\n",
    "        else:\n",
    "            counter[i]=1\n",
    "    for j in arr2:\n",
    "        if j not in counter:\n",
    "            return j\n",
    "        counter[j] -=1\n",
    "        \n",
    "    for k in counter:\n",
    "        if counter[k]!=0:\n",
    "            return k\n",
    "    return None\n",
    "        "
   ]
  },
  {
   "cell_type": "code",
   "execution_count": 12,
   "metadata": {},
   "outputs": [
    {
     "data": {
      "text/plain": [
       "0"
      ]
     },
     "execution_count": 12,
     "metadata": {},
     "output_type": "execute_result"
    }
   ],
   "source": [
    "finder([1,6,9,8,3,7,0,2,5,4],[2,3,1,8,5,9,7,4,6])"
   ]
  },
  {
   "cell_type": "code",
   "execution_count": 28,
   "metadata": {},
   "outputs": [
    {
     "name": "stdout",
     "output_type": "stream",
     "text": [
      "All test case passed\n"
     ]
    }
   ],
   "source": [
    "from nose.tools import assert_true,assert_equal,assert_is_none\n",
    "class TestFinder():\n",
    "    def test(self, sol):\n",
    "        assert_equal(sol([1,6,9,8,3,7],[3,1,9,7,6]),8)\n",
    "        assert_equal(sol([1,6,9,8,3,7,0,2,5,4],[2,3,1,8,5,9,7,4,6]),0)\n",
    "        assert_equal(sol([44,55,65,12,34,29],[55,12,34,29,44]),65)\n",
    "        assert_is_none(sol([10,61,92,85,38,57,50,8,3],[50,3,61,57,8,85,92,10,38]))\n",
    "        print('All test case passed')\n",
    "        \n",
    "t=TestFinder()\n",
    "t.test(finder)\n",
    "        "
   ]
  },
  {
   "cell_type": "code",
   "execution_count": null,
   "metadata": {},
   "outputs": [],
   "source": []
  }
 ],
 "metadata": {
  "kernelspec": {
   "display_name": "Python 3",
   "language": "python",
   "name": "python3"
  },
  "language_info": {
   "codemirror_mode": {
    "name": "ipython",
    "version": 3
   },
   "file_extension": ".py",
   "mimetype": "text/x-python",
   "name": "python",
   "nbconvert_exporter": "python",
   "pygments_lexer": "ipython3",
   "version": "3.7.6"
  }
 },
 "nbformat": 4,
 "nbformat_minor": 4
}
