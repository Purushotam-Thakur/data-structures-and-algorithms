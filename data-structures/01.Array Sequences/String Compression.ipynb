{
 "cells": [
  {
   "cell_type": "code",
   "execution_count": 13,
   "metadata": {},
   "outputs": [],
   "source": [
    "def compression(s):\n",
    "    len_s=len(s)\n",
    "    if len_s==1:\n",
    "        return s[0]+'1'\n",
    "    \n",
    "    i=1\n",
    "    count=1\n",
    "    compressed_s=''\n",
    "    \n",
    "    while(i<len_s):\n",
    "        if s[i-1]==s[i]:\n",
    "            count +=1\n",
    "        else:\n",
    "            compressed_s=compressed_s+s[i-1]+str(count)\n",
    "            count=1\n",
    "        i+=1\n",
    "    \n",
    "    compressed_s=compressed_s+s[len_s-1]+str(count)\n",
    "    \n",
    "    return compressed_s\n",
    "        "
   ]
  },
  {
   "cell_type": "code",
   "execution_count": 14,
   "metadata": {},
   "outputs": [
    {
     "name": "stdout",
     "output_type": "stream",
     "text": [
      "a3b2c3D4\n"
     ]
    }
   ],
   "source": [
    "print(compression('aaabbcccDDDD'))"
   ]
  },
  {
   "cell_type": "code",
   "execution_count": null,
   "metadata": {},
   "outputs": [],
   "source": []
  }
 ],
 "metadata": {
  "kernelspec": {
   "display_name": "Python 3",
   "language": "python",
   "name": "python3"
  }
 },
 "nbformat": 4,
 "nbformat_minor": 4
}
